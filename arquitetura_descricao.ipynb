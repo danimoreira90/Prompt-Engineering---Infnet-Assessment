{
 "cells": [
  {
   "cell_type": "markdown",
   "metadata": {},
   "source": [
    "\n",
    "\n",
    "### Arquitetura da Solução\n",
    "\n",
    "**Componentes Principais:**\n",
    "1. **Coleta de Dados (dataprep.py)**:\n",
    "   - **API da Câmara dos Deputados**: Obtenção de dados via API pública.\n",
    "   - **Arquivo .env**: Armazenamento da chave Gemini para autenticação.\n",
    "   - **Processadores de Dados**: Sumarização de textos, análise de sentimentos, marcação de palavras-chave, e vetorização.\n",
    "\n",
    "2. **Armazenamento de Dados**:\n",
    "   - **Parquet Files**: Para dados tabulares processados.\n",
    "   - **JSON Files**: Para sumários e metadados.\n",
    "   - **FAISS Index**: Para buscas eficientes em grandes volumes de vetores de texto.\n",
    "   - **YAML Files**: Para configurações e metadados do sistema.\n",
    "\n",
    "3. **Dashboard (dashboard.py)**:\n",
    "   - **Abas de Visualização**:\n",
    "     - **Resumo das Proposições**: Exibe sumários e análises de sentimentos.\n",
    "     - **Análise de Sentimentos**: Mostra gráficos e distribuições de sentimentos.\n",
    "     - **Pesquisa Vetorial**: Interface para consulta aos índices FAISS.\n",
    "   - **Funcionalidades Interativas**: Permite consultas textuais com respostas geradas por LLMs.\n",
    "\n",
    "4. **Modelos de Linguagem de Larga Escala (LLMs)**:\n",
    "   - **Sumarização**: Uso de LLMs para condensar informações detalhadas em textos mais concisos.\n",
    "   - **Geração de Respostas**: Uso de LLMs para responder a consultas dos usuários de maneira inteligente e contextual.\n",
    "\n",
    "### Descrição da Arquitetura\n",
    "\n",
    "A solução é dividida em duas partes principais: **dataprep.py** para preparação dos dados e **dashboard.py** para visualização e interação. O fluxo começa com a coleta de dados da API da Câmara dos Deputados, passando por processos de sumarização, análise de sentimentos, e vetorização, com os dados sendo armazenados em formatos apropriados para acesso rápido e eficiente. O dashboard serve como a face interativa da solução, permitindo que os usuários visualizem e interajam com os dados processados, utilizando LLMs para geração de respostas e sumarizações adicionais.\n",
    "\n",
    "### Funcionamento dos LLMs para Sumarização\n",
    "\n",
    "LLMs, como GPT-3 ou modelos similares, são treinados em vastos conjuntos de dados textuais e são capazes de gerar, traduzir, resumir e personalizar textos de maneira coesa e coerente. Para sumarização, o modelo recebe um texto longo e, com base no seu treinamento, produz uma versão mais curta que mantém as informações principais do original. Isso é útil para condensar discursos longos, documentos e proposições em resumos informativos e fáceis de ler.\n"
   ]
  },
  {
   "cell_type": "code",
   "execution_count": 2,
   "metadata": {},
   "outputs": [
    {
     "data": {
      "text/plain": [
       "'D:\\\\Pastas\\\\Infnet\\\\Infnet - 2024.2\\\\Engenharia de Prompts\\\\AT\\\\documentacao_arquitetura.pdf'"
      ]
     },
     "execution_count": 2,
     "metadata": {},
     "output_type": "execute_result"
    }
   ],
   "source": [
    "from fpdf import FPDF\n",
    "\n",
    "# Criando uma instância da classe FPDF e definindo orientação, unidade e formato\n",
    "pdf = FPDF(orientation='P', unit='mm', format='A4')\n",
    "\n",
    "# Adicionando uma página ao PDF\n",
    "pdf.add_page()\n",
    "\n",
    "# Definindo uma fonte para o texto\n",
    "pdf.set_font(\"Arial\", size=12)\n",
    "\n",
    "# Adicionando o título\n",
    "pdf.cell(200, 10, txt=\"Arquitetura do Projeto de Processamento de Dados da Câmara dos Deputados\", ln=True, align='C')\n",
    "\n",
    "# Adicionando sub-títulos e descrições da arquitetura\n",
    "pdf.cell(200, 10, ln=True)\n",
    "pdf.cell(200, 10, txt=\"1. Coleta de Dados (dataprep.py)\", ln=True)\n",
    "pdf.cell(200, 10, txt=\"   - API da Câmara dos Deputados\", ln=True)\n",
    "pdf.cell(200, 10, txt=\"   - Arquivo .env para chave Gemini\", ln=True)\n",
    "pdf.cell(200, 10, txt=\"   - Processadores de dados: Sumarização, análise de sentimentos, marcação de palavras-chave\", ln=True)\n",
    "pdf.cell(200, 10, txt=\"   - Vetorização para bases de referência\", ln=True)\n",
    "\n",
    "pdf.cell(200, 10, txt=\"2. Armazenamento de Dados\", ln=True)\n",
    "pdf.cell(200, 10, txt=\"   - Parquet para dados tabulares\", ln=True)\n",
    "pdf.cell(200, 10, txt=\"   - JSON para sumários e metadados\", ln=True)\n",
    "pdf.cell(200, 10, txt=\"   - FAISS Index para buscas vetoriais\", ln=True)\n",
    "pdf.cell(200, 10, txt=\"   - YAML para configurações\", ln=True)\n",
    "\n",
    "pdf.cell(200, 10, txt=\"3. Dashboard (dashboard.py)\", ln=True)\n",
    "pdf.cell(200, 10, txt=\"   - Abas de Visualização: Resumos, Análise de Sentimentos, Pesquisa Vetorial\", ln=True)\n",
    "pdf.cell(200, 10, txt=\"   - Funcionalidades interativas e uso de LLMs\", ln=True)\n",
    "\n",
    "pdf.cell(200, 10, txt=\"4. Modelos de Linguagem de Larga Escala (LLMs)\", ln=True)\n",
    "pdf.cell(200, 10, txt=\"   - Sumarização e geração de respostas\", ln=True)\n",
    "\n",
    "# Salvando o PDF em um arquivo\n",
    "file_path = \"D:\\Pastas\\Infnet\\Infnet - 2024.2\\Engenharia de Prompts\\AT\\documentacao_arquitetura.pdf\"\n",
    "pdf.output(name=file_path, dest='F').encode('latin1')\n",
    "\n",
    "file_path"
   ]
  }
 ],
 "metadata": {
  "kernelspec": {
   "display_name": "Python 3",
   "language": "python",
   "name": "python3"
  },
  "language_info": {
   "codemirror_mode": {
    "name": "ipython",
    "version": 3
   },
   "file_extension": ".py",
   "mimetype": "text/x-python",
   "name": "python",
   "nbconvert_exporter": "python",
   "pygments_lexer": "ipython3",
   "version": "3.11.2"
  }
 },
 "nbformat": 4,
 "nbformat_minor": 2
}
